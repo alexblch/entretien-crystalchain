{
 "cells": [
  {
   "cell_type": "code",
   "execution_count": 28,
   "metadata": {},
   "outputs": [],
   "source": [
    "import json\n",
    "from datetime import datetime"
   ]
  },
  {
   "cell_type": "code",
   "execution_count": 29,
   "metadata": {},
   "outputs": [
    {
     "name": "stdout",
     "output_type": "stream",
     "text": [
      "{\n",
      "    \"rentals\": [\n",
      "        {\n",
      "            \"id\": 1,\n",
      "            \"price\": 7000\n",
      "        },\n",
      "        {\n",
      "            \"id\": 2,\n",
      "            \"price\": 15500\n",
      "        },\n",
      "        {\n",
      "            \"id\": 3,\n",
      "            \"price\": 11250\n",
      "        }\n",
      "    ]\n",
      "}\n"
     ]
    }
   ],
   "source": [
    "# Lecture du fichier JSON\n",
    "with open('data/input.json') as f:\n",
    "    data = json.load(f)\n",
    "\n",
    "# Extraction des données\n",
    "cars = data['cars']\n",
    "rentals = data['rentals']\n",
    "\n",
    "# Créer un dictionnaire pour les voitures afin de faciliter la recherche par id\n",
    "cars_dict = {car['id']: car for car in cars}\n",
    "\n",
    "# Fonction pour calculer le nombre de jours entre deux dates\n",
    "def calculate_days_rented(start_date, end_date):\n",
    "    start = datetime.strptime(start_date, \"%Y-%m-%d\")\n",
    "    end = datetime.strptime(end_date, \"%Y-%m-%d\")\n",
    "    return (end - start).days + 1\n",
    "\n",
    "# Liste pour stocker les résultats\n",
    "results = []\n",
    "\n",
    "# Traitement de chaque location\n",
    "for rental in rentals:\n",
    "    car = cars_dict[rental['car_id']]\n",
    "    \n",
    "    # Calcul du nombre de jours de location\n",
    "    days_rented = calculate_days_rented(rental['start_date'], rental['end_date'])\n",
    "    \n",
    "    # Calcul du prix\n",
    "    price = (days_rented * car['price_per_day']) + (rental['distance'] * car['price_per_km'])\n",
    "    \n",
    "    # Ajouter le résultat à la liste\n",
    "    results.append({\n",
    "        'id': rental['id'],\n",
    "        'price': price\n",
    "    })\n",
    "\n",
    "# Résultat final au format demandé\n",
    "final_result = {\"rentals\": results}\n",
    "\n",
    "# Affichage du résultat\n",
    "print(json.dumps(final_result, indent=4))\n",
    "\n"
   ]
  }
 ],
 "metadata": {
  "kernelspec": {
   "display_name": "FrameworkML",
   "language": "python",
   "name": "python3"
  },
  "language_info": {
   "codemirror_mode": {
    "name": "ipython",
    "version": 3
   },
   "file_extension": ".py",
   "mimetype": "text/x-python",
   "name": "python",
   "nbconvert_exporter": "python",
   "pygments_lexer": "ipython3",
   "version": "3.11.3"
  }
 },
 "nbformat": 4,
 "nbformat_minor": 2
}
