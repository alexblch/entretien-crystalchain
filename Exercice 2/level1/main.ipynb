{
 "cells": [
  {
   "cell_type": "code",
   "execution_count": 3,
   "metadata": {},
   "outputs": [],
   "source": [
    "import json\n",
    "from datetime import datetime"
   ]
  },
  {
   "cell_type": "code",
   "execution_count": 4,
   "metadata": {},
   "outputs": [],
   "source": [
    "# Fonction pour calculer le nombre de jours entre deux dates\n",
    "def calculate_days_rented(start_date, end_date):\n",
    "    start = datetime.strptime(start_date, \"%Y-%m-%d\")\n",
    "    end = datetime.strptime(end_date, \"%Y-%m-%d\")\n",
    "    return (end - start).days + 1"
   ]
  },
  {
   "cell_type": "code",
   "execution_count": 5,
   "metadata": {},
   "outputs": [],
   "source": [
    "filename_output = 'data/output.json'\n",
    "filename_input = 'data/input.json'\n",
    "\n",
    "\n",
    "# Lecture du fichier JSON\n",
    "with open(filename_input) as f:\n",
    "    data = json.load(f)\n",
    "\n",
    "# Extraction des données\n",
    "cars = data['cars']\n",
    "rentals = data['rentals']\n",
    "\n",
    "# Créer un dictionnaire pour les voitures afin de faciliter la recherche par id\n",
    "cars_dict = {car['id']: car for car in cars}\n",
    "\n",
    "# Liste pour stocker les résultats\n",
    "results = []\n",
    "\n",
    "# Traitement de chaque location\n",
    "for rental in rentals:\n",
    "    car = cars_dict[rental['car_id']]\n",
    "    days_rented = calculate_days_rented(rental['start_date'], rental['end_date'])   \n",
    "    price = (days_rented * car['price_per_day']) + (rental['distance'] * car['price_per_km'])\n",
    "    results.append({\n",
    "        'id': rental['id'],\n",
    "        'price': price\n",
    "    })\n",
    "\n",
    "# Créer un dictionnaire pour les résultats\n",
    "final_result = {\"rentals\": results}\n",
    "\n",
    "# Écriture du résultat dans un fichier JSON\n",
    "with open(filename_output, 'w') as f:\n",
    "    json.dump(final_result, f, indent=4)\n"
   ]
  }
 ],
 "metadata": {
  "kernelspec": {
   "display_name": "FrameworkML",
   "language": "python",
   "name": "python3"
  },
  "language_info": {
   "codemirror_mode": {
    "name": "ipython",
    "version": 3
   },
   "file_extension": ".py",
   "mimetype": "text/x-python",
   "name": "python",
   "nbconvert_exporter": "python",
   "pygments_lexer": "ipython3",
   "version": "3.11.7"
  }
 },
 "nbformat": 4,
 "nbformat_minor": 2
}
